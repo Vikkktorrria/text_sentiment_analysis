{
 "cells": [
  {
   "cell_type": "code",
   "execution_count": 1,
   "id": "45ac9240",
   "metadata": {},
   "outputs": [],
   "source": [
    "from tensorflow.keras.models import Sequential\n",
    "from tensorflow.keras.layers import Dense, Embedding, MaxPooling1D, Conv1D, GlobalMaxPooling1D, Dropout, Flatten\n",
    "from tensorflow.keras import utils\n",
    "from tensorflow.keras.preprocessing.sequence import pad_sequences\n",
    "from tensorflow.keras.preprocessing.text import Tokenizer\n",
    "from tensorflow.keras.callbacks import ModelCheckpoint\n",
    "import pandas as pd\n",
    "import numpy as np\n",
    "import matplotlib.pyplot as plt\n",
    "import re\n",
    "%matplotlib inline \n"
   ]
  },
  {
   "cell_type": "code",
   "execution_count": 2,
   "id": "4afe703d",
   "metadata": {},
   "outputs": [],
   "source": [
    "# Количество слов в словаре\n",
    "num_words = 100000\n",
    "# Максимальная длина текста\n",
    "max_news_len = 200"
   ]
  },
  {
   "cell_type": "code",
   "execution_count": 21,
   "id": "a97015af",
   "metadata": {},
   "outputs": [],
   "source": [
    "# train = pd.read_csv(\"news-texts.csv\", encoding='cp1251', header=0, names=['Текст', 'Оценка'])\n",
    "# train = pd.read_csv(\"all_tweets.csv\", encoding='utf8', header=0, names=['','Текст', 'Оценка'])\n",
    "# train = pd.read_csv(\"processed_news_dataset.csv\", encoding='utf8', header=0, names=['Текст', 'Оценка'])\n",
    "train = pd.read_csv(\"all_news_rusentiment_and_tweets.csv\", encoding='utf8', header=0, names=['Текст', 'Оценка'], usecols=[1,2])\n",
    "train = train.sample(frac=1)\n",
    "# print(train)\n",
    "\n",
    "# some_changes = train"
   ]
  },
  {
   "cell_type": "code",
   "execution_count": 22,
   "id": "11157e45",
   "metadata": {},
   "outputs": [
    {
     "data": {
      "text/html": [
       "<div>\n",
       "<style scoped>\n",
       "    .dataframe tbody tr th:only-of-type {\n",
       "        vertical-align: middle;\n",
       "    }\n",
       "\n",
       "    .dataframe tbody tr th {\n",
       "        vertical-align: top;\n",
       "    }\n",
       "\n",
       "    .dataframe thead th {\n",
       "        text-align: right;\n",
       "    }\n",
       "</style>\n",
       "<table border=\"1\" class=\"dataframe\">\n",
       "  <thead>\n",
       "    <tr style=\"text-align: right;\">\n",
       "      <th></th>\n",
       "      <th>Текст</th>\n",
       "      <th>Оценка</th>\n",
       "    </tr>\n",
       "  </thead>\n",
       "  <tbody>\n",
       "    <tr>\n",
       "      <th>343168</th>\n",
       "      <td>RT @Bloody_SAW82: @tasteYOGURT @Slendy_mur Да,...</td>\n",
       "      <td>1</td>\n",
       "    </tr>\n",
       "    <tr>\n",
       "      <th>91694</th>\n",
       "      <td>Вечером отправился на прогулку Вечером отправи...</td>\n",
       "      <td>0</td>\n",
       "    </tr>\n",
       "    <tr>\n",
       "      <th>181887</th>\n",
       "      <td>RT @Valeria44917762: ООООЧЕНЬ ЖАЛКО ЕГО((</td>\n",
       "      <td>0</td>\n",
       "    </tr>\n",
       "    <tr>\n",
       "      <th>104821</th>\n",
       "      <td>1. Говорит по русски. 2. Опускает Навального и...</td>\n",
       "      <td>0</td>\n",
       "    </tr>\n",
       "    <tr>\n",
       "      <th>81444</th>\n",
       "      <td>@Dbnmjr весь світ це слабо сказано)) http://t....</td>\n",
       "      <td>1</td>\n",
       "    </tr>\n",
       "    <tr>\n",
       "      <th>...</th>\n",
       "      <td>...</td>\n",
       "      <td>...</td>\n",
       "    </tr>\n",
       "    <tr>\n",
       "      <th>46965</th>\n",
       "      <td>Задали по английскому перессказать текст....((</td>\n",
       "      <td>0</td>\n",
       "    </tr>\n",
       "    <tr>\n",
       "      <th>114760</th>\n",
       "      <td>прекрасное место для проведения всевозмлжных т...</td>\n",
       "      <td>0</td>\n",
       "    </tr>\n",
       "    <tr>\n",
       "      <th>244119</th>\n",
       "      <td>А у дениса всегда повис( так даже не интересно!</td>\n",
       "      <td>0</td>\n",
       "    </tr>\n",
       "    <tr>\n",
       "      <th>69961</th>\n",
       "      <td>это кто\"нет,я больше не позволю,такого не буде...</td>\n",
       "      <td>1</td>\n",
       "    </tr>\n",
       "    <tr>\n",
       "      <th>48992</th>\n",
       "      <td>@Naduhins_Yhins если б могла, показала бы(</td>\n",
       "      <td>0</td>\n",
       "    </tr>\n",
       "  </tbody>\n",
       "</table>\n",
       "<p>367398 rows × 2 columns</p>\n",
       "</div>"
      ],
      "text/plain": [
       "                                                    Текст  Оценка\n",
       "343168  RT @Bloody_SAW82: @tasteYOGURT @Slendy_mur Да,...       1\n",
       "91694   Вечером отправился на прогулку Вечером отправи...       0\n",
       "181887          RT @Valeria44917762: ООООЧЕНЬ ЖАЛКО ЕГО((       0\n",
       "104821  1. Говорит по русски. 2. Опускает Навального и...       0\n",
       "81444   @Dbnmjr весь світ це слабо сказано)) http://t....       1\n",
       "...                                                   ...     ...\n",
       "46965      Задали по английскому перессказать текст....((       0\n",
       "114760  прекрасное место для проведения всевозмлжных т...       0\n",
       "244119    А у дениса всегда повис( так даже не интересно!       0\n",
       "69961   это кто\"нет,я больше не позволю,такого не буде...       1\n",
       "48992          @Naduhins_Yhins если б могла, показала бы(       0\n",
       "\n",
       "[367398 rows x 2 columns]"
      ]
     },
     "execution_count": 22,
     "metadata": {},
     "output_type": "execute_result"
    }
   ],
   "source": [
    "# some_changes['Оценка'] = np.where(some_changes['Оценка'] == 1, 0, 1)\n",
    "train"
   ]
  },
  {
   "cell_type": "code",
   "execution_count": 23,
   "id": "754cb79d",
   "metadata": {},
   "outputs": [],
   "source": [
    "def preprocess_text(text):\n",
    "    \"\"\"\n",
    "        Функция предобрабатывает текст\n",
    "    \"\"\"\n",
    "    text = text.lower().replace(\"ё\", \"е\")\n",
    "    text = re.sub('((www\\.[^\\s]+)|(https?://[^\\s]+))', 'URL', text)\n",
    "    text = re.sub('@[^\\s]+', 'USER', text)\n",
    "    text = re.sub('[^a-zA-Zа-яА-Я1-9]+', ' ', text)\n",
    "    text = re.sub(' +', ' ', text)\n",
    "    text = re.sub('[1-9]+', '', text)\n",
    "    text = re.sub('rt', '', text)\n",
    "    return text.strip()\n"
   ]
  },
  {
   "cell_type": "code",
   "execution_count": 24,
   "id": "fa716d19",
   "metadata": {},
   "outputs": [
    {
     "data": {
      "text/plain": [
       "343168    RT @Bloody_SAW82: @tasteYOGURT @Slendy_mur Да,...\n",
       "91694     Вечером отправился на прогулку Вечером отправи...\n",
       "181887            RT @Valeria44917762: ООООЧЕНЬ ЖАЛКО ЕГО((\n",
       "104821    1. Говорит по русски. 2. Опускает Навального и...\n",
       "81444     @Dbnmjr весь світ це слабо сказано)) http://t....\n",
       "                                ...                        \n",
       "46965        Задали по английскому перессказать текст....((\n",
       "114760    прекрасное место для проведения всевозмлжных т...\n",
       "244119      А у дениса всегда повис( так даже не интересно!\n",
       "69961     это кто\"нет,я больше не позволю,такого не буде...\n",
       "48992            @Naduhins_Yhins если б могла, показала бы(\n",
       "Name: Текст, Length: 367398, dtype: object"
      ]
     },
     "execution_count": 24,
     "metadata": {},
     "output_type": "execute_result"
    }
   ],
   "source": [
    "news = train['Текст'] # [preprocess_text(t) for t in train['Текст']]\n",
    "news"
   ]
  },
  {
   "cell_type": "code",
   "execution_count": 25,
   "id": "12049914",
   "metadata": {},
   "outputs": [
    {
     "data": {
      "text/plain": [
       "343168    1\n",
       "91694     0\n",
       "181887    0\n",
       "104821    0\n",
       "81444     1\n",
       "         ..\n",
       "46965     0\n",
       "114760    0\n",
       "244119    0\n",
       "69961     1\n",
       "48992     0\n",
       "Name: Оценка, Length: 367398, dtype: int64"
      ]
     },
     "execution_count": 25,
     "metadata": {},
     "output_type": "execute_result"
    }
   ],
   "source": [
    "y_train = train['Оценка']\n",
    "y_train"
   ]
  },
  {
   "cell_type": "code",
   "execution_count": 26,
   "id": "b6a77efc",
   "metadata": {},
   "outputs": [],
   "source": [
    "# Создаем токенизатор Keras\n",
    "tokenizer = Tokenizer(num_words=num_words)"
   ]
  },
  {
   "cell_type": "code",
   "execution_count": 27,
   "id": "6ca720ae",
   "metadata": {},
   "outputs": [],
   "source": [
    "# Обучаем токенизатор на текстах новостей\n",
    "tokenizer.fit_on_texts(news)"
   ]
  },
  {
   "cell_type": "code",
   "execution_count": 35,
   "id": "e09cad89",
   "metadata": {},
   "outputs": [
    {
     "data": {
      "text/plain": [
       "1676"
      ]
     },
     "execution_count": 35,
     "metadata": {},
     "output_type": "execute_result"
    }
   ],
   "source": [
    "# Просмотрим словарь\n",
    "tokenizer.word_index.get('скучать')"
   ]
  },
  {
   "cell_type": "code",
   "execution_count": 29,
   "id": "e1b7684d",
   "metadata": {},
   "outputs": [],
   "source": [
    "# Почистим словарь от стоп слов\n",
    "stop_words = ['я', 'и', 'в', 'на', 'rt', 'а', 't', 'dd', 'ж', 'х','ru','gt','\\xa0','б','пиздец', 'т', 'lt', 'з', '...', '“'\n",
    "             's', 'i', 'to', 'ddd', 'amp', 'ff', 'the', 'm', 'n', 'v']\n",
    "\n",
    "for key in tokenizer.word_index.copy().keys():\n",
    "    if key in stop_words:\n",
    "        tokenizer.word_index.pop(key)\n",
    "    if str.isdigit(key):\n",
    "        tokenizer.word_index.pop(key)\n"
   ]
  },
  {
   "cell_type": "code",
   "execution_count": 30,
   "id": "dd76eea8",
   "metadata": {},
   "outputs": [],
   "source": [
    "# Преобразуем новости в числовое представление\n",
    "sequences = tokenizer.texts_to_sequences(news)"
   ]
  },
  {
   "cell_type": "code",
   "execution_count": 13,
   "id": "24c4ad43",
   "metadata": {},
   "outputs": [],
   "source": [
    "# tokenizer_json = tokenizer.to_json()\n",
    "# import io\n",
    "# import json\n",
    "# with io.open('tokenizer.json', 'w', encoding='utf-8') as f:\n",
    "#     f.write(json.dumps(tokenizer_json, ensure_ascii=False))"
   ]
  },
  {
   "cell_type": "code",
   "execution_count": 36,
   "id": "a0df55dc",
   "metadata": {},
   "outputs": [
    {
     "name": "stdout",
     "output_type": "stream",
     "text": [
      "Желаю хорошего полёта и удачной посадки,я буду очень сильно скучать( http://t.co/jCLNzVNv3S\n",
      "[5059, 486, 52]\n"
     ]
    }
   ],
   "source": [
    "index = 2\n",
    "print(news[index])\n",
    "print(sequences[index])"
   ]
  },
  {
   "cell_type": "code",
   "execution_count": 37,
   "id": "01c713d5",
   "metadata": {},
   "outputs": [],
   "source": [
    "# Ограничиваем длину новостей\n",
    "x_train = pad_sequences(sequences, maxlen=max_news_len)"
   ]
  },
  {
   "cell_type": "code",
   "execution_count": 56,
   "id": "1cbd8f2a",
   "metadata": {},
   "outputs": [],
   "source": [
    "# Создаем нейронную сеть\n",
    "# model = Sequential()\n",
    "# model.add(Embedding(num_words, 128, input_length=max_news_len))\n",
    "# model.add(Conv1D(10, 5, padding='valid', activation='relu'))\n",
    "# model.add(MaxPooling1D(pool_size=2))\n",
    "# model.add(Flatten())\n",
    "# model.add(Dense(128, activation='relu'))\n",
    "# model.add(Dropout(0.2))\n",
    "# model.add(Dense(1, activation='sigmoid'))\n",
    "\n",
    "\n",
    "model = Sequential()\n",
    "model.add(Embedding(num_words, 16, input_length=max_news_len))\n",
    "model.add(Conv1D(10, 3, padding='valid', activation='relu'))\n",
    "model.add(MaxPooling1D(pool_size=2))\n",
    "model.add(Flatten())\n",
    "model.add(Dense(16, activation='relu'))\n",
    "model.add(Dropout(0.2))\n",
    "model.add(Dense(1, activation='sigmoid'))\n",
    "\n",
    "# 63-67%\n",
    "# model = Sequential()\n",
    "# model.add(Embedding(num_words, 128, input_length=max_news_len))\n",
    "# model.add(Conv1D(300, 3, padding='valid', activation='relu'))\n",
    "# model.add(MaxPooling1D(pool_size=2))\n",
    "# model.add(Flatten())\n",
    "# model.add(Dense(128, activation='relu'))\n",
    "# model.add(Dropout(0.2))\n",
    "# model.add(Dense(1, activation='sigmoid'))\n",
    "\n",
    "# 73-75%\n",
    "# model = Sequential()\n",
    "# model.add(Embedding(num_words, 64, input_length=max_news_len))\n",
    "# model.add(Conv1D(100, 7, padding='valid', activation='relu'))\n",
    "# model.add(MaxPooling1D(pool_size=2))\n",
    "# model.add(Conv1D(200, 7, padding='valid', activation='relu'))\n",
    "# model.add(MaxPooling1D(pool_size=2))\n",
    "# model.add(Conv1D(200, 7, padding='valid', activation='relu'))\n",
    "# model.add(MaxPooling1D(pool_size=2))\n",
    "# model.add(Flatten())\n",
    "# model.add(Dense(256, activation='relu'))\n",
    "# model.add(Dropout(0.2))\n",
    "# model.add(Dense(1, activation='sigmoid'))\n",
    "\n",
    "# 75%\n",
    "# model = Sequential()\n",
    "# model.add(Embedding(num_words, 128, input_length=max_news_len))\n",
    "# model.add(Conv1D(100, 7, padding='valid', activation='relu'))\n",
    "# model.add(MaxPooling1D(pool_size=2))\n",
    "# model.add(Conv1D(200, 7, padding='valid', activation='relu'))\n",
    "# model.add(MaxPooling1D(pool_size=2))\n",
    "# model.add(Conv1D(400, 7, padding='valid', activation='relu'))\n",
    "# model.add(MaxPooling1D(pool_size=2))\n",
    "# model.add(Flatten())\n",
    "# model.add(Dense(256, activation='relu'))\n",
    "# model.add(Dropout(0.2))\n",
    "# model.add(Dense(1, activation='sigmoid'))\n",
    "\n",
    "# 75-76%\n",
    "# model = Sequential()\n",
    "# model.add(Embedding(num_words, 32, input_length=max_news_len))\n",
    "# model.add(Dropout(0.2))\n",
    "# model.add(Conv1D(10, 3, activation='relu'))\n",
    "# model.add(MaxPooling1D(pool_size=2))\n",
    "# model.add(Conv1D(20, 5, activation='relu'))\n",
    "# model.add(MaxPooling1D(pool_size=2))\n",
    "# model.add(Flatten())\n",
    "# model.add(Dense(32, activation='relu'))\n",
    "# model.add(Dense(1, activation='sigmoid'))\n",
    "\n",
    "# 79% при первой проходке (batch_size=256)\n",
    "# Создаем нейронную сеть\n",
    "# model = Sequential()\n",
    "# model.add(Embedding(num_words, 32, input_length=max_news_len))\n",
    "# model.add(Conv1D(filters=100, kernel_size=3, padding='valid', activation='relu'))\n",
    "# model.add(MaxPooling1D(pool_size=2))\n",
    "# model.add(Conv1D(filters=200, kernel_size=5, padding='valid', activation='relu'))\n",
    "# model.add(MaxPooling1D(pool_size=2))\n",
    "# model.add(Flatten())\n",
    "# model.add(Dropout(0.3))\n",
    "# model.add(Dense(64, activation='sigmoid'))\n",
    "# model.add(Dense(1, activation='sigmoid'))\n",
    "\n"
   ]
  },
  {
   "cell_type": "code",
   "execution_count": 57,
   "id": "18a1bb8b",
   "metadata": {},
   "outputs": [],
   "source": [
    "model.compile(optimizer='rmsprop', \n",
    "              loss='binary_crossentropy', \n",
    "              metrics=['accuracy'])"
   ]
  },
  {
   "cell_type": "code",
   "execution_count": 58,
   "id": "786fca25",
   "metadata": {},
   "outputs": [
    {
     "name": "stdout",
     "output_type": "stream",
     "text": [
      "Model: \"sequential_6\"\n",
      "_________________________________________________________________\n",
      " Layer (type)                Output Shape              Param #   \n",
      "=================================================================\n",
      " embedding_6 (Embedding)     (None, 200, 16)           1600000   \n",
      "                                                                 \n",
      " conv1d_8 (Conv1D)           (None, 198, 10)           490       \n",
      "                                                                 \n",
      " max_pooling1d_8 (MaxPooling  (None, 99, 10)           0         \n",
      " 1D)                                                             \n",
      "                                                                 \n",
      " flatten_6 (Flatten)         (None, 990)               0         \n",
      "                                                                 \n",
      " dense_12 (Dense)            (None, 16)                15856     \n",
      "                                                                 \n",
      " dropout_6 (Dropout)         (None, 16)                0         \n",
      "                                                                 \n",
      " dense_13 (Dense)            (None, 1)                 17        \n",
      "                                                                 \n",
      "=================================================================\n",
      "Total params: 1,616,363\n",
      "Trainable params: 1,616,363\n",
      "Non-trainable params: 0\n",
      "_________________________________________________________________\n"
     ]
    }
   ],
   "source": [
    "model.summary()"
   ]
  },
  {
   "cell_type": "code",
   "execution_count": 59,
   "id": "1df1066e",
   "metadata": {},
   "outputs": [
    {
     "name": "stdout",
     "output_type": "stream",
     "text": [
      "Epoch 1/10\n",
      "323/323 [==============================] - 13s 38ms/step - loss: 0.5614 - accuracy: 0.6857 - val_loss: 0.4656 - val_accuracy: 0.7779\n",
      "Epoch 2/10\n",
      "323/323 [==============================] - 12s 37ms/step - loss: 0.4395 - accuracy: 0.7937 - val_loss: 0.4034 - val_accuracy: 0.8148\n",
      "Epoch 3/10\n",
      "323/323 [==============================] - 13s 39ms/step - loss: 0.3735 - accuracy: 0.8373 - val_loss: 0.3819 - val_accuracy: 0.8283\n",
      "Epoch 4/10\n",
      "323/323 [==============================] - 13s 40ms/step - loss: 0.3286 - accuracy: 0.8638 - val_loss: 0.3670 - val_accuracy: 0.8370\n",
      "Epoch 5/10\n",
      "323/323 [==============================] - 13s 39ms/step - loss: 0.2927 - accuracy: 0.8844 - val_loss: 0.3571 - val_accuracy: 0.8465\n",
      "Epoch 6/10\n",
      "323/323 [==============================] - 13s 40ms/step - loss: 0.2590 - accuracy: 0.9016 - val_loss: 0.3502 - val_accuracy: 0.8522\n",
      "Epoch 7/10\n",
      "323/323 [==============================] - 13s 40ms/step - loss: 0.2270 - accuracy: 0.9170 - val_loss: 0.3488 - val_accuracy: 0.8560\n",
      "Epoch 8/10\n",
      "323/323 [==============================] - 13s 40ms/step - loss: 0.1981 - accuracy: 0.9300 - val_loss: 0.3491 - val_accuracy: 0.8608\n",
      "Epoch 9/10\n",
      "323/323 [==============================] - 13s 40ms/step - loss: 0.1713 - accuracy: 0.9414 - val_loss: 0.3648 - val_accuracy: 0.8625\n",
      "Epoch 10/10\n",
      "323/323 [==============================] - 13s 39ms/step - loss: 0.1486 - accuracy: 0.9504 - val_loss: 0.3684 - val_accuracy: 0.8689\n"
     ]
    }
   ],
   "source": [
    "checkpoint = ModelCheckpoint(\"models/cnn/cnn-frozen-embeddings-{epoch:02d}-{val_accuracy:.2f}.hdf5\", \n",
    "                             monitor='val_accuracy', save_best_only=True, mode='max')\n",
    "\n",
    "# Обучаем нейронную сеть\n",
    "history = model.fit(x_train, \n",
    "                    y_train, \n",
    "                    epochs=10,\n",
    "                    batch_size=1024,\n",
    "                    validation_split=0.1,\n",
    "                    callbacks = [checkpoint])"
   ]
  },
  {
   "cell_type": "code",
   "execution_count": 24,
   "id": "965f4f6a",
   "metadata": {},
   "outputs": [
    {
     "data": {
      "image/png": "[encoded data removed]",
      "text/plain": [
       "<Figure size 640x480 with 1 Axes>"
      ]
     },
     "metadata": {},
     "output_type": "display_data"
    }
   ],
   "source": [
    "plt.plot(history.history['accuracy'], \n",
    "         label='Доля верных ответов на обучающем наборе')\n",
    "plt.plot(history.history['val_accuracy'], \n",
    "         label='Доля верных ответов на проверочном наборе')\n",
    "plt.xlabel('Эпоха обучения')\n",
    "plt.ylabel('Доля верных ответов')\n",
    "plt.legend()\n",
    "plt.show()"
   ]
  },
  {
   "cell_type": "code",
   "execution_count": 25,
   "id": "76d1921e",
   "metadata": {},
   "outputs": [],
   "source": [
    "test_sample = \"\"\"AI-алгоритмы Сбера будут применять в Кыргызстане.\n",
    "На форуме «Здоровое общество» Сбер и министерство здравоохранения Кыргызстана заключили меморандум о сотрудничестве.\n",
    "\"\"\""
   ]
  },
  {
   "cell_type": "code",
   "execution_count": 26,
   "id": "301ff1dc",
   "metadata": {},
   "outputs": [
    {
     "data": {
      "text/plain": [
       "[[38704, 10812, 12076, 11884, 37]]"
      ]
     },
     "execution_count": 26,
     "metadata": {},
     "output_type": "execute_result"
    }
   ],
   "source": [
    "sequence = tokenizer.texts_to_sequences([test_sample])\n",
    "sequence"
   ]
  },
  {
   "cell_type": "code",
   "execution_count": 27,
   "id": "51b3d5e0",
   "metadata": {},
   "outputs": [
    {
     "data": {
      "text/plain": [
       "array([[    0,     0,     0,     0,     0,     0,     0,     0,     0,\n",
       "            0,     0,     0,     0,     0,     0,     0,     0,     0,\n",
       "            0,     0,     0,     0,     0,     0,     0,     0,     0,\n",
       "            0,     0,     0,     0,     0,     0,     0,     0,     0,\n",
       "            0,     0,     0,     0,     0,     0,     0,     0,     0,\n",
       "            0,     0,     0,     0,     0,     0,     0,     0,     0,\n",
       "            0,     0,     0,     0,     0,     0,     0,     0,     0,\n",
       "            0,     0,     0,     0,     0,     0,     0,     0,     0,\n",
       "            0,     0,     0,     0,     0,     0,     0,     0,     0,\n",
       "            0,     0,     0,     0,     0,     0,     0,     0,     0,\n",
       "            0,     0,     0,     0,     0,     0,     0,     0,     0,\n",
       "            0,     0,     0,     0,     0,     0,     0,     0,     0,\n",
       "            0,     0,     0,     0,     0,     0,     0,     0,     0,\n",
       "            0,     0,     0,     0,     0,     0,     0,     0,     0,\n",
       "            0,     0,     0,     0,     0,     0,     0,     0,     0,\n",
       "            0,     0,     0,     0,     0,     0,     0,     0,     0,\n",
       "            0,     0,     0,     0,     0,     0,     0,     0,     0,\n",
       "            0,     0,     0,     0,     0,     0,     0,     0,     0,\n",
       "            0,     0,     0,     0,     0,     0,     0,     0,     0,\n",
       "            0,     0,     0,     0,     0,     0,     0,     0,     0,\n",
       "            0,     0,     0,     0,     0,     0,     0,     0,     0,\n",
       "            0,     0,     0,     0,     0,     0, 38704, 10812, 12076,\n",
       "        11884,    37]])"
      ]
     },
     "execution_count": 27,
     "metadata": {},
     "output_type": "execute_result"
    }
   ],
   "source": [
    "data = pad_sequences(sequence, maxlen=max_news_len)\n",
    "data"
   ]
  },
  {
   "cell_type": "code",
   "execution_count": 28,
   "id": "8d795186",
   "metadata": {},
   "outputs": [
    {
     "name": "stdout",
     "output_type": "stream",
     "text": [
      "1/1 [==============================] - 0s 90ms/step\n"
     ]
    },
    {
     "data": {
      "text/plain": [
       "array([[0.44793838]], dtype=float32)"
      ]
     },
     "execution_count": 28,
     "metadata": {},
     "output_type": "execute_result"
    }
   ],
   "source": [
    "result = model.predict(data)\n",
    "result"
   ]
  },
  {
   "cell_type": "code",
   "execution_count": 60,
   "id": "1ecf5c23",
   "metadata": {},
   "outputs": [],
   "source": [
    "test_sample = \"\"\"\n",
    "\"Фосагро\" выплатит повышенные премии ко Дню химика\n",
    "\"\"\"\n",
    "\n",
    "# test_sample = \"\"\"\n",
    "# У компании \"CompanyName\" наблюдается рост акций на 50%. Также компания заявила о своём расширении.\n",
    "# \"\"\""
   ]
  },
  {
   "cell_type": "code",
   "execution_count": 61,
   "id": "de9a1a27",
   "metadata": {},
   "outputs": [
    {
     "data": {
      "text/plain": [
       "[[39688]]"
      ]
     },
     "execution_count": 61,
     "metadata": {},
     "output_type": "execute_result"
    }
   ],
   "source": [
    "sequence = tokenizer.texts_to_sequences([test_sample])\n",
    "sequence"
   ]
  },
  {
   "cell_type": "code",
   "execution_count": 62,
   "id": "f7098431",
   "metadata": {},
   "outputs": [
    {
     "data": {
      "text/plain": [
       "7228"
      ]
     },
     "execution_count": 62,
     "metadata": {},
     "output_type": "execute_result"
    }
   ],
   "source": [
    "tokenizer.word_index['снизить']"
   ]
  },
  {
   "cell_type": "code",
   "execution_count": 58,
   "id": "69e88038",
   "metadata": {},
   "outputs": [
    {
     "data": {
      "text/plain": [
       "array([[   0,    0,    0,    0,    0,    0,    0,    0,    0,    0,    0,\n",
       "           0,    0,    0,    0,    0,    0,    0,    0,    0,    0,    0,\n",
       "           0,    0,    0,    0,    0,    0,    0,    0,    0,    0,    0,\n",
       "           0,    0,    0,    0,    0,    0,    0,    0,    0,    0,    0,\n",
       "           0,    0,    0,    0,    0,    0,    0,    0,    0,    0,    0,\n",
       "           0,    0,    0,    0,    0,    0,    0,    0,    0,    0,    0,\n",
       "           0,    0,    0,    0,    0,    0,    0,    0,    0,    0,    0,\n",
       "           0,    0,    0,    0,    0,    0,    0,    0,    0,    0,    0,\n",
       "           0,    0,    0,    0,    0,    0,    0,    0,    0,    0,    0,\n",
       "           0,    0,    0,    0,    0,    0,    0,    0,    0,    0,    0,\n",
       "           0,    0,    0,    0,    0,    0,    0,    0,    0,    0,    0,\n",
       "           0,    0,    0,    0,    0,    0,    0,    0,    0,    0,    0,\n",
       "           0,    0,    0,    0,    0,    0,    0,    0,    0,    0,    0,\n",
       "           0,    0,    0,    0,    0,    0,    0,    0,    0,    0,    0,\n",
       "           0,    0,    0,    0,    0,    0,    0,    0,    0,    0,    0,\n",
       "           0,    0,    0,    0,    0,    0,    0,    0,    0,    0,    0,\n",
       "           0,    0,    0,    0,    0,    0,    0,    0,    0,    0,    0,\n",
       "           0,    0,    0,    0,    0,    0,    0,    0,   15, 1648, 1264,\n",
       "         854,   37]])"
      ]
     },
     "execution_count": 58,
     "metadata": {},
     "output_type": "execute_result"
    }
   ],
   "source": [
    "data = pad_sequences(sequence, maxlen=max_news_len)\n",
    "data"
   ]
  },
  {
   "cell_type": "code",
   "execution_count": 59,
   "id": "6dac9200",
   "metadata": {},
   "outputs": [
    {
     "name": "stdout",
     "output_type": "stream",
     "text": [
      "1/1 [==============================] - 0s 16ms/step\n",
      "0.10154108\n",
      "Negative\n"
     ]
    }
   ],
   "source": [
    "result = model.predict(data)\n",
    "print(result[0][0])\n",
    "if result[0][0] < 0.5:\n",
    "    print('Negative')\n",
    "else:\n",
    "    print('Positive')"
   ]
  },
  {
   "cell_type": "code",
   "execution_count": 43,
   "id": "5375c0be",
   "metadata": {},
   "outputs": [],
   "source": [
    "model.save('test_model_70.h5')"
   ]
  },
  {
   "cell_type": "code",
   "execution_count": 44,
   "id": "5e7132b7",
   "metadata": {},
   "outputs": [
    {
     "name": "stdout",
     "output_type": "stream",
     "text": [
      "[[0 0 0 0 0 0 0 0 0 0 0 0 0 0 0 0 0 0 0 0 0 0 0 0 0 0 0 0 0 0 0 0 0 0 0 0\n",
      "  0 0 0 0 0 0 0 0 0 0 0 0 0 0 0 0 0 0 0 0 0 0 0 0 0 0 0 0 0 0 0 0 0 0 0 0\n",
      "  0 0 0 0 0 0 0 0 0 0 0 0 0 0 0 0 0 0 0 0 0 0 0 0 0 0 0 0 0 0 0 0 0 0 0 0\n",
      "  0 0 0 0 0 0 0 0 0 0 0 0 0 0 0 0 0 0 0 0 0 0 0 0 0 0 0 0 0 0 0 0 0 0 0 0\n",
      "  0 0 0 0 0 0 0 0 0 0 0 0 0 0 0 0 0 0 0 0 0 0 0 0 0 0 0 0 0 0 0 0 0 0 0 0\n",
      "  0 0 0 0 0 0 0 0 0 0 0 0 0 0 0 0 0 0 0 0]]\n",
      "1/1 [==============================] - 0s 16ms/step\n",
      "0.17827529\n"
     ]
    }
   ],
   "source": [
    "data = pad_sequences([[0,0,0]], maxlen=max_news_len)\n",
    "print(data)\n",
    "result = model.predict(data)\n",
    "print(result[0][0])"
   ]
  },
  {
   "cell_type": "code",
   "execution_count": null,
   "id": "7f4b9ceb",
   "metadata": {},
   "outputs": [],
   "source": []
  }
 ],
 "metadata": {
  "kernelspec": {
   "display_name": "Python 3 (ipykernel)",
   "language": "python",
   "name": "python3"
  },
  "language_info": {
   "codemirror_mode": {
    "name": "ipython",
    "version": 3
   },
   "file_extension": ".py",
   "mimetype": "text/x-python",
   "name": "python",
   "nbconvert_exporter": "python",
   "pygments_lexer": "ipython3",
   "version": "3.11.5"
  }
 },
 "nbformat": 4,
 "nbformat_minor": 5
}
